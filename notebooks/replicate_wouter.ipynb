{
 "cells": [
  {
   "cell_type": "code",
   "execution_count": 1,
   "id": "b7d8502c-b0e6-462b-894b-5d419c2d0067",
   "metadata": {},
   "outputs": [
    {
     "name": "stdout",
     "output_type": "stream",
     "text": [
      "C:\\Users\\nieli\\Documents\\uva\\thesis\\code\n"
     ]
    }
   ],
   "source": [
    "import pandas as pd\n",
    "import os\n",
    "import numpy as np\n",
    "import matplotlib.pyplot as plt\n",
    "import seaborn as sns\n",
    "from matplotlib.colors import LogNorm\n",
    "sns.reset_defaults()\n",
    "sns.set_theme(style=\"darkgrid\")\n",
    "sns.set_palette(\"colorblind\")\n",
    "\n",
    "\n",
    "#verry important\n",
    "os.chdir(r\"C:/Users/nieli/Documents/uva/thesis/code/\")\n",
    "print(os.getcwd())"
   ]
  },
  {
   "cell_type": "code",
   "execution_count": 2,
   "id": "1a7dd511-bb0f-4c6c-9a40-ccd5337a7429",
   "metadata": {},
   "outputs": [],
   "source": [
    "wouter_folder = 'PPA/results/wouter_results/'"
   ]
  },
  {
   "cell_type": "markdown",
   "id": "20d069ab-914d-42d1-90a3-51a1932c8a00",
   "metadata": {},
   "source": [
    "### 8 nd benchmarks"
   ]
  },
  {
   "cell_type": "code",
   "execution_count": 3,
   "id": "04904523-02aa-4b80-a0f1-a7c0fb69743c",
   "metadata": {},
   "outputs": [],
   "source": [
    "df = pd.DataFrame(columns=['benchmark','median_val','dimension'])\n",
    "i = 0\n",
    "for filename in os.listdir(wouter_folder):\n",
    "    \n",
    "    benchmark = filename.split('-')[0]\n",
    "    dimension = filename.split('-')[1].split('.')[0]\n",
    "    test = filename\n",
    "    median_val = pd.read_csv(f'{wouter_folder}{filename}', header=0, dtype={'Repetition':int,'Value@10k':float}, names=['run_n','obj_val']).median()[1]\n",
    "    df = df.append({'benchmark':benchmark, 'median_val':median_val,'dimension':dimension}, ignore_index=True)\n",
    "\n",
    "    \n",
    "#     df = df.append({}), ignore_index=True)\n"
   ]
  },
  {
   "cell_type": "markdown",
   "id": "12db6360-789a-446d-b25e-1d1ea60f69f9",
   "metadata": {},
   "source": [
    "### 1 nd benchmark"
   ]
  },
  {
   "cell_type": "code",
   "execution_count": 4,
   "id": "9aff0d7a-613d-4dbe-bd5c-c8dcd0c59c02",
   "metadata": {},
   "outputs": [],
   "source": [
    "rastrigin_files = 'PPA/results/wouter_results_faulty/rastrigin'"
   ]
  },
  {
   "cell_type": "code",
   "execution_count": 5,
   "id": "bad35512-3b98-4145-91c5-26db6a1f3b5d",
   "metadata": {},
   "outputs": [],
   "source": [
    "for filename in os.listdir(rastrigin_files):\n",
    "    \n",
    "    dimension = filename.replace('d','')\n",
    "    bests = []\n",
    "    for run in os.listdir(f'{rastrigin_files}/{filename}'):\n",
    "        \n",
    "        temp = pd.read_csv(f'{rastrigin_files}/{filename}/{run}')\n",
    "        bests.append(temp[-1:].curbest.values[0])\n",
    "    \n",
    "    df = df.append({'benchmark':'rastrigin','median_val':np.median(bests),'dimension':dimension}, ignore_index=True)\n",
    "    \n",
    "    \n",
    "    "
   ]
  },
  {
   "cell_type": "markdown",
   "id": "721543a8-eb0c-41a8-aae9-647469e2155f",
   "metadata": {},
   "source": [
    "### 2D benchmarks"
   ]
  },
  {
   "cell_type": "code",
   "execution_count": 7,
   "id": "69048313-d4a1-46ae-b41a-1140e87e0c5b",
   "metadata": {},
   "outputs": [],
   "source": [
    "faulty_folder = 'PPA/results/wouter_results_faulty/'\n",
    "df_2d = pd.DataFrame(columns=['benchmark','median_val','dimension'])\n",
    "for benchmark in os.listdir(faulty_folder):\n",
    "    if benchmark == 'rastrigin':\n",
    "        break\n",
    "    for filename in os.listdir(f'PPA/results/wouter_results_faulty/{benchmark}'):\n",
    "        \n",
    "        \n",
    "        dimension = filename.replace('d','')\n",
    "        bests = []\n",
    "        for run in os.listdir(f'{faulty_folder}/{benchmark}/{filename}'):\n",
    "            \n",
    "            temp = pd.read_csv(f'{faulty_folder}/{benchmark}/{filename}/{run}')\n",
    "            bests.append(temp[-1:].curbest.values[0])\n",
    "        \n",
    "        df_2d = df_2d.append({'benchmark': benchmark,'median_val':np.median(bests),'dimension':dimension}, ignore_index=True)\n",
    "    \n",
    "    "
   ]
  },
  {
   "cell_type": "code",
   "execution_count": 8,
   "id": "f32fa584-c5a4-4297-8746-d1b01976d6df",
   "metadata": {},
   "outputs": [],
   "source": [
    "df.to_csv('PPA/results/cleaned_wouter/cleaned_wouter.csv', index=False)\n",
    "df_2d.to_csv('PPA/results/cleaned_wouter/2d_cleaned_wouter.csv', index=False)"
   ]
  },
  {
   "cell_type": "markdown",
   "id": "9a837dbf-9488-478f-8f6e-ba25bc69702e",
   "metadata": {},
   "source": [
    "### you need to subtract the kown optimum from wouters results for optima > 0"
   ]
  },
  {
   "cell_type": "code",
   "execution_count": 9,
   "id": "181a5cde-3d96-48e6-b055-b08f57bea466",
   "metadata": {},
   "outputs": [],
   "source": [
    "wouter_df = pd.read_csv('PPA/results/cleaned_wouter/cleaned_wouter.csv')\n",
    "my_df = pd.read_csv('PPA/results/cleaned_wouter/my_nd.csv')\n",
    "my_df['benchmark'] = my_df['benchmark'].str.lower()\n",
    "my_df =  my_df.replace('rastrigrin','rastrigin')"
   ]
  },
  {
   "cell_type": "code",
   "execution_count": 73,
   "id": "97ee75c4-dcdc-4336-85bb-6ab4f7834a1f",
   "metadata": {},
   "outputs": [],
   "source": [
    "# my_df['wouter_val'] = np.nan"
   ]
  },
  {
   "cell_type": "code",
   "execution_count": 10,
   "id": "3aab9abc-7a61-45a3-ac62-7eb8bdb63260",
   "metadata": {},
   "outputs": [],
   "source": [
    "for b in my_df.benchmark.unique():\n",
    "    for d in my_df.dimensions.unique():       \n",
    "        my_df.loc[(my_df.benchmark == b)&(my_df.dimensions == d),'wouter_val'] = wouter_df.loc[(wouter_df['benchmark'] == b)&(wouter_df.dimension == d)].median_val.values[0]\n",
    "        \n",
    "my_df = my_df.sort_values(['benchmark','dimensions'])\n",
    "wouter_df = wouter_df.sort_values(['benchmark','dimension'])\n",
    "my_df['difference'] = abs(my_df['error'] - my_df['wouter_val'])\n"
   ]
  },
  {
   "cell_type": "code",
   "execution_count": 11,
   "id": "7a5c0b5c-cc1a-4b90-b5b4-6e957f4e9cb3",
   "metadata": {},
   "outputs": [],
   "source": [
    "merge_df = pd.merge(my_df,wouter_df, left_on=['benchmark','dimensions'],right_on=['benchmark','dimension'])\n",
    "merge_df['difference'] = abs(merge_df['error'] - merge_df['median_val'])\n",
    "merge_df['percent_diff'] = abs((merge_df.error / merge_df.median_val) - 1)"
   ]
  },
  {
   "cell_type": "code",
   "execution_count": 12,
   "id": "43b201bb-e377-41ad-9fce-16146623ba37",
   "metadata": {},
   "outputs": [
    {
     "data": {
      "text/plain": [
       "33.0"
      ]
     },
     "execution_count": 12,
     "metadata": {},
     "output_type": "execute_result"
    }
   ],
   "source": [
    "merge_df.loc[merge_df['percent_diff'] > 0.05,'significant'] = 1\n",
    "merge_df.loc[merge_df['percent_diff'] <= 0.05,'significant'] = 0\n",
    "sum(merge_df['significant'] )\n",
    "# merge_df\n",
    "# merge_df['percent_diff'] = 1 if (merge_df['percent_diff'] > 0.05) else 0"
   ]
  },
  {
   "cell_type": "code",
   "execution_count": 13,
   "id": "619bb93f-0b0b-441c-b07e-2561f5f8c636",
   "metadata": {},
   "outputs": [
    {
     "data": {
      "image/png": "[encoded data removed]",
      "text/plain": [
       "<Figure size 640x480 with 1 Axes>"
      ]
     },
     "metadata": {},
     "output_type": "display_data"
    }
   ],
   "source": []
  },
  {
   "cell_type": "code",
   "execution_count": null,
   "id": "85ecafc6-b4fd-4f8b-8ca2-a22a281c233c",
   "metadata": {},
   "outputs": [],
   "source": []
  },
  {
   "cell_type": "code",
   "execution_count": 15,
   "id": "3c9681a2-35e9-4286-85f6-47cf6d4a6afe",
   "metadata": {},
   "outputs": [],
   "source": [
    "wouter_df_2d = pd.read_csv('PPA/results/cleaned_wouter/2d_cleaned_wouter.csv')"
   ]
  },
  {
   "cell_type": "code",
   "execution_count": 18,
   "id": "a5f17446-d42f-44fe-98f5-ea2114f1a4a2",
   "metadata": {},
   "outputs": [
    {
     "data": {
      "text/plain": [
       "[0.0003525992644614,\n",
       " 0.0003173017296705,\n",
       " 0.0003622269501455,\n",
       " 0.0001070423600074,\n",
       " 0.0010159163784151,\n",
       " 0.0006158373841079,\n",
       " 0.0002771755431361,\n",
       " 0.0001557295811993,\n",
       " 0.0001436651416009,\n",
       " 0.0001554550197772,\n",
       " 0.0004866139657885,\n",
       " 0.0003285497841939,\n",
       " 0.0001211067730572,\n",
       " 0.00055440574981,\n",
       " 8.873016500235275e-05,\n",
       " 0.0001181168056236,\n",
       " 0.0001518246287163,\n",
       " 0.0003178777777097,\n",
       " 0.0010913698703242,\n",
       " 8.658500109552586e-05]"
      ]
     },
     "execution_count": 18,
     "metadata": {},
     "output_type": "execute_result"
    }
   ],
   "source": [
    "bests"
   ]
  },
  {
   "cell_type": "code",
   "execution_count": 22,
   "id": "14f23cc0-a107-4120-89fe-c58cd3e2ce01",
   "metadata": {},
   "outputs": [
    {
     "data": {
      "text/plain": [
       "WilcoxonResult(statistic=0.0, pvalue=1.9073486328125e-06)"
      ]
     },
     "execution_count": 22,
     "metadata": {},
     "output_type": "execute_result"
    }
   ],
   "source": [
    "\n",
    "shapiro_test = stats.wilcoxon(bests)\n",
    "shapiro_test"
   ]
  },
  {
   "cell_type": "code",
   "execution_count": null,
   "id": "9e568d89-e50f-4b24-b1c8-90ddb35086fe",
   "metadata": {},
   "outputs": [],
   "source": []
  },
  {
   "cell_type": "code",
   "execution_count": 2,
   "id": "db15b2cb-41f0-45e9-980f-5c8e6d66cb88",
   "metadata": {},
   "outputs": [],
   "source": [
    "from scipy import stats"
   ]
  },
  {
   "cell_type": "code",
   "execution_count": 3,
   "id": "9b94c082-0e31-45fb-9377-93ea95977b16",
   "metadata": {},
   "outputs": [],
   "source": [
    "pretty_names = {\n",
    "    'ackley':'Ackley',\n",
    "    'branin':'Branin',\n",
    "    'cigar':'Cigar',\n",
    "    'easom':'Easom',\n",
    "    'ellipse':'Ellipse',\n",
    "    'goldstein_price':'Goldstein-Price',\n",
    "    'griewank':'Griewank',\n",
    "    'martin_gaddy':'Martin-Gaddy',\n",
    "    'rastrigin':'Rastrigin',\n",
    "    'rosenbrock':'Rosenbrock',\n",
    "    'schwefel':'Schwefel',\n",
    "    'six_hump_camel':'Six-Hump-Camel',\n",
    "    'sphere':'Sphere',\n",
    "    'tablet':'Tablet'\n",
    "}"
   ]
  },
  {
   "cell_type": "code",
   "execution_count": 8,
   "id": "5cef4ddb-cc9f-4837-ab05-d4c1da4aa512",
   "metadata": {},
   "outputs": [],
   "source": [
    "wouter_folder = 'PPA/results/wouter_results/'\n",
    "wouter_df = pd.DataFrame(columns=['run_n','benchmark','dimensions','best_objval'])\n",
    "i = 0\n",
    "for filename in os.listdir(wouter_folder):\n",
    "    \n",
    "    benchmark = filename.split('-')[0]\n",
    "    dimension = filename.split('-')[1].split('.')[0]\n",
    "    \n",
    "    temp_df = pd.read_csv(f'{wouter_folder}{filename}', header=0, dtype={'Repetition':int,'Value@10k':float}, names=['run_n','best_objval'])\n",
    "    temp_df['dimensions'] = int(dimension)\n",
    "    temp_df['benchmark'] = benchmark\n",
    "    \n",
    "    wouter_df = wouter_df.append(temp_df, ignore_index=True)\n",
    "    \n",
    "\n",
    "rastrigin_files = 'PPA/results/wouter_results_faulty/rastrigin'\n",
    "rast_df = pd.DataFrame(columns=['run_n','benchmark','dimensions','best_objval'])\n",
    "\n",
    "for filename in os.listdir(rastrigin_files):\n",
    "    \n",
    "    dimension = int(filename.replace('d',''))\n",
    "    \n",
    "    for run in os.listdir(f'{rastrigin_files}/{filename}'):\n",
    "        \n",
    "        temp = pd.read_csv(f'{rastrigin_files}/{filename}/{run}')\n",
    "        run_n = run.replace('.csv','')\n",
    "        rast_df = rast_df.append({'run_n':run_n,'benchmark':'rastrigin','best_objval':temp[-1:].curbest.values[0],'dimensions':dimension}, ignore_index=True)\n",
    "    \n",
    "wouter_df = wouter_df.append(rast_df, ignore_index=True)\n",
    "\n",
    "faulty_folder = 'PPA/results/wouter_results_faulty/'\n",
    "df_2d = pd.DataFrame(columns=['run_n','benchmark','dimensions','best_objval'])\n",
    "for benchmark in os.listdir(faulty_folder):\n",
    "    \n",
    "    if benchmark == 'rastrigin':\n",
    "        continue\n",
    "    for filename in os.listdir(f'PPA/results/wouter_results_faulty/{benchmark}'):\n",
    "        \n",
    "        dimension = int(filename.replace('d',''))\n",
    "        for run in os.listdir(f'{faulty_folder}/{benchmark}/{filename}'):\n",
    "            run_n = run.replace('.csv','')\n",
    "            temp = pd.read_csv(f'{faulty_folder}/{benchmark}/{filename}/{run}')\n",
    "            df_2d = df_2d.append({'run_n':run_n,'benchmark': benchmark,'best_objval':temp[-1:].curbest.values[0],'dimensions':dimension}, ignore_index=True)\n",
    "        \n",
    "wouter_df = wouter_df.append(df_2d, ignore_index=True)"
   ]
  },
  {
   "cell_type": "code",
   "execution_count": 135,
   "id": "db19a1c7-772d-44db-ae83-1bbc2a2df810",
   "metadata": {},
   "outputs": [],
   "source": [
    "my_df = pd.read_csv('PPA/results/my_results_rep/my_results-thesis.csv').rename(columns={'benchmark_name':'benchmark','best_during run':'best_objval'})\n",
    "my_df['benchmark'] = my_df['benchmark'].str.lower()\n",
    "my_df = my_df.replace({'rastrigrin':'rastrigin','martin-gaddy':'martin_gaddy', 'six-hump-camel':'six_hump_camel','goldstein-price':'goldstein_price'})"
   ]
  },
  {
   "cell_type": "code",
   "execution_count": 103,
   "id": "3ca02ce3-2550-43a7-a646-b7c9f62b720f",
   "metadata": {},
   "outputs": [],
   "source": [
    "# new_df = my_df"
   ]
  },
  {
   "cell_type": "code",
   "execution_count": 125,
   "id": "465f247f-7d2f-430c-a154-8546fd78289c",
   "metadata": {},
   "outputs": [
    {
     "data": {
      "text/html": [
       "<div>\n",
       "<style scoped>\n",
       "    .dataframe tbody tr th:only-of-type {\n",
       "        vertical-align: middle;\n",
       "    }\n",
       "\n",
       "    .dataframe tbody tr th {\n",
       "        vertical-align: top;\n",
       "    }\n",
       "\n",
       "    .dataframe thead th {\n",
       "        text-align: right;\n",
       "    }\n",
       "</style>\n",
       "<table border=\"1\" class=\"dataframe\">\n",
       "  <thead>\n",
       "    <tr style=\"text-align: right;\">\n",
       "      <th></th>\n",
       "      <th>run_n</th>\n",
       "      <th>benchmark</th>\n",
       "      <th>dimensions</th>\n",
       "      <th>best_objval</th>\n",
       "    </tr>\n",
       "  </thead>\n",
       "  <tbody>\n",
       "    <tr>\n",
       "      <th>870</th>\n",
       "      <td>1</td>\n",
       "      <td>tablet</td>\n",
       "      <td>5</td>\n",
       "      <td>102.162019</td>\n",
       "    </tr>\n",
       "    <tr>\n",
       "      <th>871</th>\n",
       "      <td>9</td>\n",
       "      <td>tablet</td>\n",
       "      <td>5</td>\n",
       "      <td>197.031566</td>\n",
       "    </tr>\n",
       "    <tr>\n",
       "      <th>872</th>\n",
       "      <td>8</td>\n",
       "      <td>tablet</td>\n",
       "      <td>5</td>\n",
       "      <td>5.067062</td>\n",
       "    </tr>\n",
       "    <tr>\n",
       "      <th>873</th>\n",
       "      <td>7</td>\n",
       "      <td>tablet</td>\n",
       "      <td>5</td>\n",
       "      <td>226.836265</td>\n",
       "    </tr>\n",
       "    <tr>\n",
       "      <th>874</th>\n",
       "      <td>6</td>\n",
       "      <td>tablet</td>\n",
       "      <td>5</td>\n",
       "      <td>115.319819</td>\n",
       "    </tr>\n",
       "    <tr>\n",
       "      <th>875</th>\n",
       "      <td>0</td>\n",
       "      <td>tablet</td>\n",
       "      <td>5</td>\n",
       "      <td>50.787917</td>\n",
       "    </tr>\n",
       "    <tr>\n",
       "      <th>876</th>\n",
       "      <td>5</td>\n",
       "      <td>tablet</td>\n",
       "      <td>5</td>\n",
       "      <td>36.928371</td>\n",
       "    </tr>\n",
       "    <tr>\n",
       "      <th>877</th>\n",
       "      <td>3</td>\n",
       "      <td>tablet</td>\n",
       "      <td>5</td>\n",
       "      <td>129.208977</td>\n",
       "    </tr>\n",
       "    <tr>\n",
       "      <th>878</th>\n",
       "      <td>2</td>\n",
       "      <td>tablet</td>\n",
       "      <td>5</td>\n",
       "      <td>98.177999</td>\n",
       "    </tr>\n",
       "    <tr>\n",
       "      <th>879</th>\n",
       "      <td>14</td>\n",
       "      <td>tablet</td>\n",
       "      <td>5</td>\n",
       "      <td>18.720322</td>\n",
       "    </tr>\n",
       "    <tr>\n",
       "      <th>880</th>\n",
       "      <td>13</td>\n",
       "      <td>tablet</td>\n",
       "      <td>5</td>\n",
       "      <td>141.301301</td>\n",
       "    </tr>\n",
       "    <tr>\n",
       "      <th>881</th>\n",
       "      <td>12</td>\n",
       "      <td>tablet</td>\n",
       "      <td>5</td>\n",
       "      <td>153.655831</td>\n",
       "    </tr>\n",
       "    <tr>\n",
       "      <th>882</th>\n",
       "      <td>11</td>\n",
       "      <td>tablet</td>\n",
       "      <td>5</td>\n",
       "      <td>375.800745</td>\n",
       "    </tr>\n",
       "    <tr>\n",
       "      <th>883</th>\n",
       "      <td>10</td>\n",
       "      <td>tablet</td>\n",
       "      <td>5</td>\n",
       "      <td>256.119392</td>\n",
       "    </tr>\n",
       "    <tr>\n",
       "      <th>884</th>\n",
       "      <td>4</td>\n",
       "      <td>tablet</td>\n",
       "      <td>5</td>\n",
       "      <td>351.062741</td>\n",
       "    </tr>\n",
       "  </tbody>\n",
       "</table>\n",
       "</div>"
      ],
      "text/plain": [
       "     run_n benchmark  dimensions  best_objval\n",
       "870      1    tablet           5   102.162019\n",
       "871      9    tablet           5   197.031566\n",
       "872      8    tablet           5     5.067062\n",
       "873      7    tablet           5   226.836265\n",
       "874      6    tablet           5   115.319819\n",
       "875      0    tablet           5    50.787917\n",
       "876      5    tablet           5    36.928371\n",
       "877      3    tablet           5   129.208977\n",
       "878      2    tablet           5    98.177999\n",
       "879     14    tablet           5    18.720322\n",
       "880     13    tablet           5   141.301301\n",
       "881     12    tablet           5   153.655831\n",
       "882     11    tablet           5   375.800745\n",
       "883     10    tablet           5   256.119392\n",
       "884      4    tablet           5   351.062741"
      ]
     },
     "execution_count": 125,
     "metadata": {},
     "output_type": "execute_result"
    }
   ],
   "source": [
    "set_1"
   ]
  },
  {
   "cell_type": "markdown",
   "id": "c552cdea-8494-4586-97c0-7b51e515eaf7",
   "metadata": {},
   "source": [
    "### A p-value higher than 0.05 (> 0.05) is not statistically significant and indicates strong evidence for the null hypothesis."
   ]
  },
  {
   "cell_type": "markdown",
   "id": "cc9691a1-0f25-47c9-8907-7cbb16daf0d1",
   "metadata": {},
   "source": [
    "p-values > 0.05 mean the null hypothesis is true, indicating that the samples come from the same population"
   ]
  },
  {
   "cell_type": "code",
   "execution_count": 136,
   "id": "3affc76e-1710-45da-8b72-f4f43935dc1b",
   "metadata": {},
   "outputs": [],
   "source": [
    "stats_df = pd.DataFrame(columns=['benchmark','dimensions','greater_than'])\n",
    "for benchmark in my_df.benchmark.unique():\n",
    "    for dimension in my_df[my_df['benchmark'] == benchmark].dimensions.unique():\n",
    "        set_1 = my_df[(my_df['benchmark'] == benchmark) & (my_df['dimensions'] == dimension)]\n",
    "        set_2 = wouter_df[(wouter_df['benchmark'] == benchmark) & (wouter_df['dimensions'] == dimension)]\n",
    "        \n",
    "        #remove the furthest outliers from set_2 to get the same size\n",
    "#         set_2_mean = set_2.mean().best_objval\n",
    "#         set_2['distance_to_mean'] = abs(set_2_mean - set_2['best_objval'])\n",
    "#         set_2 = set_2.sort_values('distance_to_mean', ascending=False)[5:]\n",
    "        \n",
    "        greater_than = stats.mannwhitneyu(set_1['best_objval'], set_2['best_objval']).pvalue > 0.05\n",
    "        \n",
    "        stats_df = stats_df.append({'benchmark':benchmark,'dimensions':dimension,'greater_than':greater_than}, ignore_index=True)"
   ]
  },
  {
   "cell_type": "code",
   "execution_count": 130,
   "id": "b1e3638b-cd12-4270-b2c1-1256c9390dc1",
   "metadata": {},
   "outputs": [
    {
     "name": "stderr",
     "output_type": "stream",
     "text": [
      "C:\\Users\\nieli\\miniconda3\\envs\\ppa_data_vis\\lib\\site-packages\\pandas\\core\\generic.py:5494: SettingWithCopyWarning: \n",
      "A value is trying to be set on a copy of a slice from a DataFrame.\n",
      "Try using .loc[row_indexer,col_indexer] = value instead\n",
      "\n",
      "See the caveats in the documentation: https://pandas.pydata.org/pandas-docs/stable/user_guide/indexing.html#returning-a-view-versus-a-copy\n",
      "  self[name] = value\n",
      "C:\\Users\\nieli\\miniconda3\\envs\\ppa_data_vis\\lib\\site-packages\\ipykernel_launcher.py:6: SettingWithCopyWarning: \n",
      "A value is trying to be set on a copy of a slice from a DataFrame.\n",
      "Try using .loc[row_indexer,col_indexer] = value instead\n",
      "\n",
      "See the caveats in the documentation: https://pandas.pydata.org/pandas-docs/stable/user_guide/indexing.html#returning-a-view-versus-a-copy\n",
      "  \n"
     ]
    },
    {
     "data": {
      "image/png": "[encoded data removed]",
      "text/plain": [
       "<Figure size 500x300 with 1 Axes>"
      ]
     },
     "metadata": {},
     "output_type": "display_data"
    },
    {
     "name": "stderr",
     "output_type": "stream",
     "text": [
      "C:\\Users\\nieli\\miniconda3\\envs\\ppa_data_vis\\lib\\site-packages\\ipykernel_launcher.py:19: SettingWithCopyWarning: \n",
      "A value is trying to be set on a copy of a slice from a DataFrame.\n",
      "Try using .loc[row_indexer,col_indexer] = value instead\n",
      "\n",
      "See the caveats in the documentation: https://pandas.pydata.org/pandas-docs/stable/user_guide/indexing.html#returning-a-view-versus-a-copy\n"
     ]
    },
    {
     "data": {
      "image/png": "[encoded data removed]",
      "text/plain": [
       "<Figure size 500x240 with 1 Axes>"
      ]
     },
     "metadata": {},
     "output_type": "display_data"
    }
   ],
   "source": [
    "fig = plt.figure(figsize=(5,3))\n",
    "\n",
    "# fig, axs = plt.subplots(nrows=1, ncols=2, figsize=(5,3), gridspec_kw={'width_ratios': [4, 1]})\n",
    "nd_stats = stats_df[~(stats_df['benchmark'].isin(['branin','easom','goldstein_price','martin_gaddy','six_hump_camel']))]\n",
    "nd_stats.benchmark = nd_stats.benchmark.replace(pretty_names)\n",
    "nd_stats['greater_than'] = pd.to_numeric(nd_stats['greater_than'])\n",
    "heatmap_data = nd_stats[['benchmark', 'dimensions','greater_than']].pivot(index='benchmark', columns='dimensions', values='greater_than')\n",
    "rdgn = sns.diverging_palette(10,130, as_cmap=True)\n",
    "sns.heatmap(heatmap_data, cmap=rdgn, cbar=False, square=True) \n",
    "plt.xlabel('Dimensions')\n",
    "plt.ylabel('Benchmark')\n",
    "plt.title('n-D')\n",
    "plt.show()\n",
    "\n",
    "fig = plt.figure(figsize=(5,2.4))\n",
    "\n",
    "d2_stats = stats_df[(stats_df['benchmark'].isin(['branin','easom','goldstein_price','martin_gaddy','six_hump_camel']))]\n",
    "d2_stats.benchmark = d2_stats.benchmark.replace(pretty_names)\n",
    "d2_stats['greater_than'] = pd.to_numeric(d2_stats['greater_than'])\n",
    "heatmap_data = d2_stats[['benchmark', 'dimensions','greater_than']].pivot(index='benchmark', columns='dimensions', values='greater_than')\n",
    "#adding extra rows so the height is the same, photoshop this out\n",
    "# heatmap_data = heatmap_data.append(heatmap_data[:-1], ignore_index=True)\n",
    "rdgn = sns.diverging_palette(10,130, as_cmap=True)\n",
    "sns.heatmap(heatmap_data, cmap=rdgn, cbar=False, square=True)\n",
    "plt.ylabel('') \n",
    "plt.xlabel('Dimension')\n",
    "plt.title('2-D')\n",
    "\n",
    "plt.title('True/False significanct on Mann-Whitney U rank test')\n",
    "# plt.title('Significanct in Mann-Whitney U rank test')\n",
    "plt.tight_layout()\n",
    "plt.show()\n",
    "\n"
   ]
  },
  {
   "cell_type": "code",
   "execution_count": 84,
   "id": "8452d386-c727-4c85-8c55-6beb09f33c03",
   "metadata": {},
   "outputs": [],
   "source": [
    "# new_set = set_1"
   ]
  },
  {
   "cell_type": "code",
   "execution_count": 114,
   "id": "dcf3b4f8-f58b-4232-9d19-ff63aee6d60f",
   "metadata": {},
   "outputs": [
    {
     "data": {
      "text/plain": [
       "array(['ackley', 'branin', 'cigar', 'easom', 'ellipse', 'goldstein_price',\n",
       "       'griewank', 'martin_gaddy', 'rastrigin', 'rosenbrock', 'schwefel',\n",
       "       'six_hump_camel', 'sphere', 'tablet'], dtype=object)"
      ]
     },
     "execution_count": 114,
     "metadata": {},
     "output_type": "execute_result"
    }
   ],
   "source": [
    "my_df.benchmark.unique()"
   ]
  },
  {
   "cell_type": "code",
   "execution_count": 137,
   "id": "2d9aa00a-a8cd-4eb2-8cc6-c5c92b8873a1",
   "metadata": {},
   "outputs": [],
   "source": [
    "a =my_df[(my_df['benchmark'] == 'rosenbrock') & (my_df['dimensions'] == 2)]"
   ]
  },
  {
   "cell_type": "code",
   "execution_count": 143,
   "id": "f142466b-b3e4-4c28-8735-cf260ef92f98",
   "metadata": {},
   "outputs": [],
   "source": [
    "an = new_df[(new_df['benchmark'] == 'rosenbrock') & (new_df['dimensions'] == 2)]"
   ]
  },
  {
   "cell_type": "code",
   "execution_count": 144,
   "id": "d013ba3a-14c5-481d-a88a-7ff7b371f45d",
   "metadata": {},
   "outputs": [],
   "source": [
    "aw = wouter_df[(wouter_df['benchmark'] == 'rosenbrock') & (wouter_df['dimensions'] == 2)]"
   ]
  },
  {
   "cell_type": "code",
   "execution_count": 145,
   "id": "049d7ebb-9c7c-4607-b7e7-8f2218962c92",
   "metadata": {},
   "outputs": [
    {
     "data": {
      "image/png": "[encoded data removed]",
      "text/plain": [
       "<Figure size 640x480 with 1 Axes>"
      ]
     },
     "metadata": {},
     "output_type": "display_data"
    }
   ],
   "source": [
    "sns.histplot(a.best_objval, label='original', color='yellow')\n",
    "sns.histplot(an.best_objval, label='new', color='red')\n",
    "sns.histplot(aw.best_objval, label='wouter')\n",
    "plt.legend()\n",
    "plt.show()"
   ]
  },
  {
   "cell_type": "code",
   "execution_count": 141,
   "id": "86ce3d51-0e9e-4f67-9765-0175b41bf845",
   "metadata": {},
   "outputs": [
    {
     "data": {
      "text/html": [
       "<div>\n",
       "<style scoped>\n",
       "    .dataframe tbody tr th:only-of-type {\n",
       "        vertical-align: middle;\n",
       "    }\n",
       "\n",
       "    .dataframe tbody tr th {\n",
       "        vertical-align: top;\n",
       "    }\n",
       "\n",
       "    .dataframe thead th {\n",
       "        text-align: right;\n",
       "    }\n",
       "</style>\n",
       "<table border=\"1\" class=\"dataframe\">\n",
       "  <thead>\n",
       "    <tr style=\"text-align: right;\">\n",
       "      <th></th>\n",
       "      <th>run_n</th>\n",
       "      <th>benchmark</th>\n",
       "      <th>dimensions</th>\n",
       "      <th>best_objval</th>\n",
       "    </tr>\n",
       "  </thead>\n",
       "  <tbody>\n",
       "    <tr>\n",
       "      <th>532</th>\n",
       "      <td>4</td>\n",
       "      <td>rosenbrock</td>\n",
       "      <td>2</td>\n",
       "      <td>0.001090</td>\n",
       "    </tr>\n",
       "    <tr>\n",
       "      <th>533</th>\n",
       "      <td>3</td>\n",
       "      <td>rosenbrock</td>\n",
       "      <td>2</td>\n",
       "      <td>0.000202</td>\n",
       "    </tr>\n",
       "    <tr>\n",
       "      <th>534</th>\n",
       "      <td>2</td>\n",
       "      <td>rosenbrock</td>\n",
       "      <td>2</td>\n",
       "      <td>0.000733</td>\n",
       "    </tr>\n",
       "    <tr>\n",
       "      <th>535</th>\n",
       "      <td>14</td>\n",
       "      <td>rosenbrock</td>\n",
       "      <td>2</td>\n",
       "      <td>0.000578</td>\n",
       "    </tr>\n",
       "    <tr>\n",
       "      <th>536</th>\n",
       "      <td>13</td>\n",
       "      <td>rosenbrock</td>\n",
       "      <td>2</td>\n",
       "      <td>0.000779</td>\n",
       "    </tr>\n",
       "    <tr>\n",
       "      <th>537</th>\n",
       "      <td>12</td>\n",
       "      <td>rosenbrock</td>\n",
       "      <td>2</td>\n",
       "      <td>0.000350</td>\n",
       "    </tr>\n",
       "    <tr>\n",
       "      <th>538</th>\n",
       "      <td>11</td>\n",
       "      <td>rosenbrock</td>\n",
       "      <td>2</td>\n",
       "      <td>0.000516</td>\n",
       "    </tr>\n",
       "    <tr>\n",
       "      <th>539</th>\n",
       "      <td>10</td>\n",
       "      <td>rosenbrock</td>\n",
       "      <td>2</td>\n",
       "      <td>0.000230</td>\n",
       "    </tr>\n",
       "    <tr>\n",
       "      <th>540</th>\n",
       "      <td>1</td>\n",
       "      <td>rosenbrock</td>\n",
       "      <td>2</td>\n",
       "      <td>0.000737</td>\n",
       "    </tr>\n",
       "    <tr>\n",
       "      <th>552</th>\n",
       "      <td>5</td>\n",
       "      <td>rosenbrock</td>\n",
       "      <td>2</td>\n",
       "      <td>0.000336</td>\n",
       "    </tr>\n",
       "    <tr>\n",
       "      <th>588</th>\n",
       "      <td>6</td>\n",
       "      <td>rosenbrock</td>\n",
       "      <td>2</td>\n",
       "      <td>0.000017</td>\n",
       "    </tr>\n",
       "    <tr>\n",
       "      <th>589</th>\n",
       "      <td>0</td>\n",
       "      <td>rosenbrock</td>\n",
       "      <td>2</td>\n",
       "      <td>0.001017</td>\n",
       "    </tr>\n",
       "    <tr>\n",
       "      <th>590</th>\n",
       "      <td>8</td>\n",
       "      <td>rosenbrock</td>\n",
       "      <td>2</td>\n",
       "      <td>0.001350</td>\n",
       "    </tr>\n",
       "    <tr>\n",
       "      <th>591</th>\n",
       "      <td>7</td>\n",
       "      <td>rosenbrock</td>\n",
       "      <td>2</td>\n",
       "      <td>0.001194</td>\n",
       "    </tr>\n",
       "    <tr>\n",
       "      <th>598</th>\n",
       "      <td>9</td>\n",
       "      <td>rosenbrock</td>\n",
       "      <td>2</td>\n",
       "      <td>0.000665</td>\n",
       "    </tr>\n",
       "  </tbody>\n",
       "</table>\n",
       "</div>"
      ],
      "text/plain": [
       "     run_n   benchmark  dimensions  best_objval\n",
       "532      4  rosenbrock           2     0.001090\n",
       "533      3  rosenbrock           2     0.000202\n",
       "534      2  rosenbrock           2     0.000733\n",
       "535     14  rosenbrock           2     0.000578\n",
       "536     13  rosenbrock           2     0.000779\n",
       "537     12  rosenbrock           2     0.000350\n",
       "538     11  rosenbrock           2     0.000516\n",
       "539     10  rosenbrock           2     0.000230\n",
       "540      1  rosenbrock           2     0.000737\n",
       "552      5  rosenbrock           2     0.000336\n",
       "588      6  rosenbrock           2     0.000017\n",
       "589      0  rosenbrock           2     0.001017\n",
       "590      8  rosenbrock           2     0.001350\n",
       "591      7  rosenbrock           2     0.001194\n",
       "598      9  rosenbrock           2     0.000665"
      ]
     },
     "execution_count": 141,
     "metadata": {},
     "output_type": "execute_result"
    }
   ],
   "source": [
    "a"
   ]
  },
  {
   "cell_type": "code",
   "execution_count": 142,
   "id": "f69226a7-0ca5-46a1-8cdd-e80ce7dc9e61",
   "metadata": {},
   "outputs": [
    {
     "data": {
      "text/html": [
       "<div>\n",
       "<style scoped>\n",
       "    .dataframe tbody tr th:only-of-type {\n",
       "        vertical-align: middle;\n",
       "    }\n",
       "\n",
       "    .dataframe tbody tr th {\n",
       "        vertical-align: top;\n",
       "    }\n",
       "\n",
       "    .dataframe thead th {\n",
       "        text-align: right;\n",
       "    }\n",
       "</style>\n",
       "<table border=\"1\" class=\"dataframe\">\n",
       "  <thead>\n",
       "    <tr style=\"text-align: right;\">\n",
       "      <th></th>\n",
       "      <th>benchmark</th>\n",
       "      <th>dimensions</th>\n",
       "      <th>best_objval</th>\n",
       "      <th>run_n</th>\n",
       "    </tr>\n",
       "  </thead>\n",
       "  <tbody>\n",
       "    <tr>\n",
       "      <th>690</th>\n",
       "      <td>six_hump_camel</td>\n",
       "      <td>2</td>\n",
       "      <td>-1.031622</td>\n",
       "      <td>0</td>\n",
       "    </tr>\n",
       "    <tr>\n",
       "      <th>691</th>\n",
       "      <td>six_hump_camel</td>\n",
       "      <td>2</td>\n",
       "      <td>-1.031628</td>\n",
       "      <td>10</td>\n",
       "    </tr>\n",
       "    <tr>\n",
       "      <th>692</th>\n",
       "      <td>six_hump_camel</td>\n",
       "      <td>2</td>\n",
       "      <td>-1.031618</td>\n",
       "      <td>11</td>\n",
       "    </tr>\n",
       "    <tr>\n",
       "      <th>693</th>\n",
       "      <td>six_hump_camel</td>\n",
       "      <td>2</td>\n",
       "      <td>-1.031625</td>\n",
       "      <td>12</td>\n",
       "    </tr>\n",
       "    <tr>\n",
       "      <th>694</th>\n",
       "      <td>six_hump_camel</td>\n",
       "      <td>2</td>\n",
       "      <td>-1.031623</td>\n",
       "      <td>13</td>\n",
       "    </tr>\n",
       "    <tr>\n",
       "      <th>695</th>\n",
       "      <td>six_hump_camel</td>\n",
       "      <td>2</td>\n",
       "      <td>-1.031625</td>\n",
       "      <td>14</td>\n",
       "    </tr>\n",
       "    <tr>\n",
       "      <th>696</th>\n",
       "      <td>six_hump_camel</td>\n",
       "      <td>2</td>\n",
       "      <td>-1.031615</td>\n",
       "      <td>1</td>\n",
       "    </tr>\n",
       "    <tr>\n",
       "      <th>697</th>\n",
       "      <td>six_hump_camel</td>\n",
       "      <td>2</td>\n",
       "      <td>-1.031590</td>\n",
       "      <td>2</td>\n",
       "    </tr>\n",
       "    <tr>\n",
       "      <th>698</th>\n",
       "      <td>six_hump_camel</td>\n",
       "      <td>2</td>\n",
       "      <td>-1.031617</td>\n",
       "      <td>3</td>\n",
       "    </tr>\n",
       "    <tr>\n",
       "      <th>699</th>\n",
       "      <td>six_hump_camel</td>\n",
       "      <td>2</td>\n",
       "      <td>-1.031622</td>\n",
       "      <td>4</td>\n",
       "    </tr>\n",
       "    <tr>\n",
       "      <th>700</th>\n",
       "      <td>six_hump_camel</td>\n",
       "      <td>2</td>\n",
       "      <td>-1.031627</td>\n",
       "      <td>5</td>\n",
       "    </tr>\n",
       "    <tr>\n",
       "      <th>701</th>\n",
       "      <td>six_hump_camel</td>\n",
       "      <td>2</td>\n",
       "      <td>-1.031626</td>\n",
       "      <td>6</td>\n",
       "    </tr>\n",
       "    <tr>\n",
       "      <th>702</th>\n",
       "      <td>six_hump_camel</td>\n",
       "      <td>2</td>\n",
       "      <td>-1.031627</td>\n",
       "      <td>7</td>\n",
       "    </tr>\n",
       "    <tr>\n",
       "      <th>703</th>\n",
       "      <td>six_hump_camel</td>\n",
       "      <td>2</td>\n",
       "      <td>-1.031607</td>\n",
       "      <td>8</td>\n",
       "    </tr>\n",
       "    <tr>\n",
       "      <th>704</th>\n",
       "      <td>six_hump_camel</td>\n",
       "      <td>2</td>\n",
       "      <td>-1.031617</td>\n",
       "      <td>9</td>\n",
       "    </tr>\n",
       "  </tbody>\n",
       "</table>\n",
       "</div>"
      ],
      "text/plain": [
       "          benchmark  dimensions  best_objval  run_n\n",
       "690  six_hump_camel           2    -1.031622      0\n",
       "691  six_hump_camel           2    -1.031628     10\n",
       "692  six_hump_camel           2    -1.031618     11\n",
       "693  six_hump_camel           2    -1.031625     12\n",
       "694  six_hump_camel           2    -1.031623     13\n",
       "695  six_hump_camel           2    -1.031625     14\n",
       "696  six_hump_camel           2    -1.031615      1\n",
       "697  six_hump_camel           2    -1.031590      2\n",
       "698  six_hump_camel           2    -1.031617      3\n",
       "699  six_hump_camel           2    -1.031622      4\n",
       "700  six_hump_camel           2    -1.031627      5\n",
       "701  six_hump_camel           2    -1.031626      6\n",
       "702  six_hump_camel           2    -1.031627      7\n",
       "703  six_hump_camel           2    -1.031607      8\n",
       "704  six_hump_camel           2    -1.031617      9"
      ]
     },
     "execution_count": 142,
     "metadata": {},
     "output_type": "execute_result"
    }
   ],
   "source": [
    "an"
   ]
  },
  {
   "cell_type": "code",
   "execution_count": 133,
   "id": "15603872-917c-4d0f-8830-1591bbbdc77d",
   "metadata": {},
   "outputs": [
    {
     "data": {
      "text/html": [
       "<div>\n",
       "<style scoped>\n",
       "    .dataframe tbody tr th:only-of-type {\n",
       "        vertical-align: middle;\n",
       "    }\n",
       "\n",
       "    .dataframe tbody tr th {\n",
       "        vertical-align: top;\n",
       "    }\n",
       "\n",
       "    .dataframe thead th {\n",
       "        text-align: right;\n",
       "    }\n",
       "</style>\n",
       "<table border=\"1\" class=\"dataframe\">\n",
       "  <thead>\n",
       "    <tr style=\"text-align: right;\">\n",
       "      <th></th>\n",
       "      <th>run_n</th>\n",
       "      <th>benchmark</th>\n",
       "      <th>dimensions</th>\n",
       "      <th>best_objval</th>\n",
       "    </tr>\n",
       "  </thead>\n",
       "  <tbody>\n",
       "    <tr>\n",
       "      <th>1160</th>\n",
       "      <td>1</td>\n",
       "      <td>six_hump_camel</td>\n",
       "      <td>2</td>\n",
       "      <td>-1.031618</td>\n",
       "    </tr>\n",
       "    <tr>\n",
       "      <th>1161</th>\n",
       "      <td>10</td>\n",
       "      <td>six_hump_camel</td>\n",
       "      <td>2</td>\n",
       "      <td>-1.031586</td>\n",
       "    </tr>\n",
       "    <tr>\n",
       "      <th>1162</th>\n",
       "      <td>11</td>\n",
       "      <td>six_hump_camel</td>\n",
       "      <td>2</td>\n",
       "      <td>-1.031595</td>\n",
       "    </tr>\n",
       "    <tr>\n",
       "      <th>1163</th>\n",
       "      <td>12</td>\n",
       "      <td>six_hump_camel</td>\n",
       "      <td>2</td>\n",
       "      <td>-1.031582</td>\n",
       "    </tr>\n",
       "    <tr>\n",
       "      <th>1164</th>\n",
       "      <td>13</td>\n",
       "      <td>six_hump_camel</td>\n",
       "      <td>2</td>\n",
       "      <td>-1.031583</td>\n",
       "    </tr>\n",
       "    <tr>\n",
       "      <th>1165</th>\n",
       "      <td>14</td>\n",
       "      <td>six_hump_camel</td>\n",
       "      <td>2</td>\n",
       "      <td>-1.031628</td>\n",
       "    </tr>\n",
       "    <tr>\n",
       "      <th>1166</th>\n",
       "      <td>15</td>\n",
       "      <td>six_hump_camel</td>\n",
       "      <td>2</td>\n",
       "      <td>-1.031547</td>\n",
       "    </tr>\n",
       "    <tr>\n",
       "      <th>1167</th>\n",
       "      <td>16</td>\n",
       "      <td>six_hump_camel</td>\n",
       "      <td>2</td>\n",
       "      <td>-1.031626</td>\n",
       "    </tr>\n",
       "    <tr>\n",
       "      <th>1168</th>\n",
       "      <td>17</td>\n",
       "      <td>six_hump_camel</td>\n",
       "      <td>2</td>\n",
       "      <td>-1.031597</td>\n",
       "    </tr>\n",
       "    <tr>\n",
       "      <th>1169</th>\n",
       "      <td>18</td>\n",
       "      <td>six_hump_camel</td>\n",
       "      <td>2</td>\n",
       "      <td>-1.031627</td>\n",
       "    </tr>\n",
       "    <tr>\n",
       "      <th>1170</th>\n",
       "      <td>19</td>\n",
       "      <td>six_hump_camel</td>\n",
       "      <td>2</td>\n",
       "      <td>-1.031624</td>\n",
       "    </tr>\n",
       "    <tr>\n",
       "      <th>1171</th>\n",
       "      <td>2</td>\n",
       "      <td>six_hump_camel</td>\n",
       "      <td>2</td>\n",
       "      <td>-1.031576</td>\n",
       "    </tr>\n",
       "    <tr>\n",
       "      <th>1172</th>\n",
       "      <td>20</td>\n",
       "      <td>six_hump_camel</td>\n",
       "      <td>2</td>\n",
       "      <td>-1.031568</td>\n",
       "    </tr>\n",
       "    <tr>\n",
       "      <th>1173</th>\n",
       "      <td>3</td>\n",
       "      <td>six_hump_camel</td>\n",
       "      <td>2</td>\n",
       "      <td>-1.031615</td>\n",
       "    </tr>\n",
       "    <tr>\n",
       "      <th>1174</th>\n",
       "      <td>4</td>\n",
       "      <td>six_hump_camel</td>\n",
       "      <td>2</td>\n",
       "      <td>-1.031546</td>\n",
       "    </tr>\n",
       "    <tr>\n",
       "      <th>1175</th>\n",
       "      <td>5</td>\n",
       "      <td>six_hump_camel</td>\n",
       "      <td>2</td>\n",
       "      <td>-1.031574</td>\n",
       "    </tr>\n",
       "    <tr>\n",
       "      <th>1176</th>\n",
       "      <td>6</td>\n",
       "      <td>six_hump_camel</td>\n",
       "      <td>2</td>\n",
       "      <td>-1.031533</td>\n",
       "    </tr>\n",
       "    <tr>\n",
       "      <th>1177</th>\n",
       "      <td>7</td>\n",
       "      <td>six_hump_camel</td>\n",
       "      <td>2</td>\n",
       "      <td>-1.031614</td>\n",
       "    </tr>\n",
       "    <tr>\n",
       "      <th>1178</th>\n",
       "      <td>8</td>\n",
       "      <td>six_hump_camel</td>\n",
       "      <td>2</td>\n",
       "      <td>-1.031574</td>\n",
       "    </tr>\n",
       "    <tr>\n",
       "      <th>1179</th>\n",
       "      <td>9</td>\n",
       "      <td>six_hump_camel</td>\n",
       "      <td>2</td>\n",
       "      <td>-1.031622</td>\n",
       "    </tr>\n",
       "  </tbody>\n",
       "</table>\n",
       "</div>"
      ],
      "text/plain": [
       "     run_n       benchmark dimensions  best_objval\n",
       "1160     1  six_hump_camel          2    -1.031618\n",
       "1161    10  six_hump_camel          2    -1.031586\n",
       "1162    11  six_hump_camel          2    -1.031595\n",
       "1163    12  six_hump_camel          2    -1.031582\n",
       "1164    13  six_hump_camel          2    -1.031583\n",
       "1165    14  six_hump_camel          2    -1.031628\n",
       "1166    15  six_hump_camel          2    -1.031547\n",
       "1167    16  six_hump_camel          2    -1.031626\n",
       "1168    17  six_hump_camel          2    -1.031597\n",
       "1169    18  six_hump_camel          2    -1.031627\n",
       "1170    19  six_hump_camel          2    -1.031624\n",
       "1171     2  six_hump_camel          2    -1.031576\n",
       "1172    20  six_hump_camel          2    -1.031568\n",
       "1173     3  six_hump_camel          2    -1.031615\n",
       "1174     4  six_hump_camel          2    -1.031546\n",
       "1175     5  six_hump_camel          2    -1.031574\n",
       "1176     6  six_hump_camel          2    -1.031533\n",
       "1177     7  six_hump_camel          2    -1.031614\n",
       "1178     8  six_hump_camel          2    -1.031574\n",
       "1179     9  six_hump_camel          2    -1.031622"
      ]
     },
     "execution_count": 133,
     "metadata": {},
     "output_type": "execute_result"
    }
   ],
   "source": [
    "aw"
   ]
  },
  {
   "cell_type": "code",
   "execution_count": 90,
   "id": "62020f35-decf-4bdf-9181-79ad47abc42c",
   "metadata": {},
   "outputs": [],
   "source": [
    "thesis_test = my_df[(my_df['benchmark'] == 'ackley') & (my_df['dimensions'] == 100)]"
   ]
  },
  {
   "cell_type": "code",
   "execution_count": 14,
   "id": "dcf79194-a844-4b33-80a0-a3f42c3e4f15",
   "metadata": {},
   "outputs": [
    {
     "data": {
      "image/png": "[encoded data removed]",
      "text/plain": [
       "<Figure size 200x20 with 1 Axes>"
      ]
     },
     "metadata": {},
     "output_type": "display_data"
    }
   ],
   "source": [
    "plt.figure(figsize=(2, 0.2))\n",
    "plt.title('True/False significanct on Mann-Whitney U rank test')\n",
    "plt.show()"
   ]
  },
  {
   "cell_type": "code",
   "execution_count": 98,
   "id": "b0e5a058-d686-4566-ad2c-be8bcb84eb54",
   "metadata": {},
   "outputs": [
    {
     "data": {
      "text/plain": [
       "20.594012129395352"
      ]
     },
     "execution_count": 98,
     "metadata": {},
     "output_type": "execute_result"
    }
   ],
   "source": [
    "np.mean(new_set['best_objval'])"
   ]
  },
  {
   "cell_type": "code",
   "execution_count": 99,
   "id": "348bd0ac-d08f-4336-8b5e-da7f3625db4f",
   "metadata": {},
   "outputs": [
    {
     "data": {
      "text/plain": [
       "18.926150648682587"
      ]
     },
     "execution_count": 99,
     "metadata": {},
     "output_type": "execute_result"
    }
   ],
   "source": [
    "np.mean(thesis_set['best_objval'])"
   ]
  },
  {
   "cell_type": "code",
   "execution_count": 100,
   "id": "c695b3b9-6864-4bff-b134-a0a5c0b3f04d",
   "metadata": {},
   "outputs": [
    {
     "data": {
      "text/plain": [
       "20.657551976394675"
      ]
     },
     "execution_count": 100,
     "metadata": {},
     "output_type": "execute_result"
    }
   ],
   "source": [
    "np.mean(set_2['best_objval'])"
   ]
  }
 ],
 "metadata": {
  "kernelspec": {
   "display_name": "Python [conda env:ppa_data_vis] *",
   "language": "python",
   "name": "conda-env-ppa_data_vis-py"
  },
  "language_info": {
   "codemirror_mode": {
    "name": "ipython",
    "version": 3
   },
   "file_extension": ".py",
   "mimetype": "text/x-python",
   "name": "python",
   "nbconvert_exporter": "python",
   "pygments_lexer": "ipython3",
   "version": "3.7.10"
  }
 },
 "nbformat": 4,
 "nbformat_minor": 5
}
