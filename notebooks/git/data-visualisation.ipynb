{
 "cells": [
  {
   "cell_type": "code",
   "execution_count": null,
   "id": "3f552b3f-ec8d-45e1-b7a6-c784d2cf442c",
   "metadata": {},
   "outputs": [],
   "source": [
    "from operator import attrgetter\n",
    "\n",
    "import pandas as pd\n",
    "import numpy as np\n",
    "import math\n",
    "\n",
    "import matplotlib.pyplot as plt\n",
    "import seaborn as sns\n",
    "import pickle\n",
    "import os\n",
    "from notify_run import Notify\n",
    "import igraph\n",
    "from collections import Counter\n",
    "from matplotlib.colors import LogNorm\n",
    "sns.reset_defaults()\n",
    "sns.set_theme(style=\"darkgrid\")\n",
    "sns.set_theme(style=\"whitegrid\")\n",
    "sns.set_palette(\"colorblind\")\n"
   ]
  }
 ],
 "metadata": {
  "kernelspec": {
   "display_name": "Python [conda env:ppa_data_vis] *",
   "language": "python",
   "name": "conda-env-ppa_data_vis-py"
  },
  "language_info": {
   "codemirror_mode": {
    "name": "ipython",
    "version": 3
   },
   "file_extension": ".py",
   "mimetype": "text/x-python",
   "name": "python",
   "nbconvert_exporter": "python",
   "pygments_lexer": "ipython3",
   "version": "3.7.10"
  }
 },
 "nbformat": 4,
 "nbformat_minor": 5
}
